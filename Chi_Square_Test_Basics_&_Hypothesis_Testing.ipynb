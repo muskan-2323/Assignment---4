{
  "nbformat": 4,
  "nbformat_minor": 0,
  "metadata": {
    "colab": {
      "provenance": []
    },
    "kernelspec": {
      "name": "python3",
      "display_name": "Python 3"
    },
    "language_info": {
      "name": "python"
    }
  },
  "cells": [
    {
      "cell_type": "markdown",
      "source": [
        "**CHI-SQUARE TEST**"
      ],
      "metadata": {
        "id": "SlL6RN-l-_5j"
      }
    },
    {
      "cell_type": "markdown",
      "source": [
        "1. State the Hypotheses:\n",
        "\n",
        "\n",
        "Null Hypothesis (H0): There is no association between the type of smart home device purchased and the customer satisfaction level.\n",
        "Alternative Hypothesis (H1): There is an association between the type of smart home device purchased and the customer satisfaction level."
      ],
      "metadata": {
        "id": "f6OcUA48lASZ"
      }
    },
    {
      "cell_type": "markdown",
      "source": [
        "2. Compute the Chi-Square Statistic:\n",
        "\n",
        "\n",
        "You can compute the Chi-square statistic using the formula:\n",
        "𝑋\n",
        "2\n",
        "=\n",
        "∑\n",
        "(\n",
        "𝑂\n",
        "−\n",
        "𝐸\n",
        ")\n",
        "2\n",
        "𝐸\n",
        "X\n",
        "2\n",
        " =∑\n",
        "E\n",
        "(O−E)\n",
        "2\n",
        "\n",
        "​Where\n",
        "𝑂\n",
        "O is the observed frequency and\n",
        "𝐸\n",
        "E is the expected frequency."
      ],
      "metadata": {
        "id": "kTSBq2F6lFgb"
      }
    },
    {
      "cell_type": "code",
      "source": [
        "import numpy as np\n",
        "from scipy.stats import chi2_contingency\n",
        "\n",
        "# Contingency table data\n",
        "observed = np.array([[50, 70],\n",
        "                     [80, 100],\n",
        "                     [60, 90],\n",
        "                     [30, 50],\n",
        "                     [20, 50]])\n",
        "\n",
        "# Perform Chi-square test\n",
        "chi2, p, dof, expected = chi2_contingency(observed)\n",
        "\n",
        "# Print Chi-square statistic and p-value\n",
        "print(\"Chi-square Statistic:\", chi2)\n",
        "print(\"p-value:\", p)\n",
        "print(\"Degrees of Freedom:\", dof)\n",
        "print(\"Expected frequencies:\")\n",
        "print(expected)\n",
        "\n",
        "# Find the critical value for alpha = 0.05 and dof = (rows - 1) * (columns - 1)\n",
        "alpha = 0.05\n",
        "critical_value = chi2_contingency(np.ones((2, 2)))[0]\n",
        "print(\"Critical Value:\", critical_value)\n",
        "\n",
        "# Make a decision\n",
        "if chi2 > critical_value:\n",
        "    print(\"Reject the null hypothesis. There is a significant association between device type and customer satisfaction.\")\n",
        "else:\n",
        "    print(\"Fail to reject the null hypothesis. There is no significant association between device type and customer satisfaction.\")"
      ],
      "metadata": {
        "colab": {
          "base_uri": "https://localhost:8080/"
        },
        "id": "dNRVe1t9nGlX",
        "outputId": "8c3812cd-8694-446e-b420-1e45e0742e07"
      },
      "execution_count": 1,
      "outputs": [
        {
          "output_type": "stream",
          "name": "stdout",
          "text": [
            "Chi-square Statistic: 5.638227513227513\n",
            "p-value: 0.22784371130697179\n",
            "Degrees of Freedom: 4\n",
            "Expected frequencies:\n",
            "[[ 48.  72.]\n",
            " [ 72. 108.]\n",
            " [ 60.  90.]\n",
            " [ 32.  48.]\n",
            " [ 28.  42.]]\n",
            "Critical Value: 0.0\n",
            "Reject the null hypothesis. There is a significant association between device type and customer satisfaction.\n"
          ]
        }
      ]
    },
    {
      "cell_type": "markdown",
      "source": [
        "3. Determine the Critical Value:\n",
        "\n",
        "The critical value for the Chi-square test can be obtained from the Chi-square distribution table or using Python libraries such as scipy.stats."
      ],
      "metadata": {
        "id": "KyDtHJQolwbt"
      }
    },
    {
      "cell_type": "markdown",
      "source": [
        "4. Make a Decision:\n",
        "\n",
        "Compare the computed Chi-square statistic with the critical value obtained in step 3. If the computed Chi-square statistic exceeds the critical value, then you reject the null hypothesis. Otherwise, you fail to reject the null hypothesis"
      ],
      "metadata": {
        "id": "Nbd0yxqrlz6o"
      }
    },
    {
      "cell_type": "markdown",
      "source": [
        "**HYPOTHESIS** **TESTING**"
      ],
      "metadata": {
        "id": "dKMUHmLa-r-F"
      }
    },
    {
      "cell_type": "markdown",
      "source": [
        "1. State the Hypotheses statement:\n",
        "\n",
        "Null Hypothesis (H0): The weekly operating costs are as per the theoretical model, i.e., the mean weekly operating cost (\n",
        "𝜇\n",
        "μ) is 3050 as predicted by the model.\n",
        "\n",
        "Alternative Hypothesis (H1): The weekly operating costs are higher than predicted by the theoretical model, i.e., the mean weekly operating cost (\n",
        "𝜇\n",
        "μ) is greater than $3050.\n"
      ],
      "metadata": {
        "id": "ccCc9_nczbi7"
      }
    },
    {
      "cell_type": "markdown",
      "source": [
        "2. Calculate the Test Statistic:\n",
        "\n",
        "We'll use the formula for the t-test:\n",
        "𝑡\n",
        "=\n",
        "𝑥\n",
        "ˉ\n",
        "−\n",
        "𝜇\n",
        "𝜎\n",
        "𝑛\n",
        "t=\n",
        "n\n",
        "​\n",
        " σ\n",
        "​\n",
        "x\n",
        "ˉ\n",
        " −μ\n",
        "​\n",
        "\n",
        "Where:\n",
        "\n",
        "\n",
        "\n",
        "x\n",
        "ˉ\n",
        "  = sample mean weekly cost (Rs. 3,050)\n",
        "\n",
        "μ = theoretical mean weekly cost according to the cost model ($1,000 + $5X for\n",
        "𝑋\n",
        "=\n",
        "600\n",
        "X=600 units)\n",
        "\n",
        "𝜎\n",
        "=\n",
        "5\n",
        "×\n",
        "25\n",
        "σ=5×25 (standard deviation of the number of units produced in a week)\n",
        "𝑛\n",
        "n = sample size (25 restaurants)"
      ],
      "metadata": {
        "id": "Ai3Tafo66mzC"
      }
    },
    {
      "cell_type": "code",
      "source": [
        "import numpy as np\n",
        "from scipy.stats import t\n",
        "\n",
        "# Given data\n",
        "sample_mean = 3050\n",
        "theoretical_mean = 1000 + 5 * 600\n",
        "sigma = 5 * 25\n",
        "n = 25\n",
        "\n",
        "# Calculate the test statistic\n",
        "t_statistic = (sample_mean - theoretical_mean) / (sigma / np.sqrt(n))\n",
        "print(\"Test Statistic (t):\", t_statistic)\n",
        "\n",
        "# Determine the critical value (one-tailed test, alpha = 0.05)\n",
        "alpha = 0.05\n",
        "degrees_of_freedom = n - 1\n",
        "critical_value = t.ppf(1 - alpha, degrees_of_freedom)\n",
        "print(\"Critical Value:\", critical_value)\n",
        "\n",
        "# Make a decision\n",
        "if t_statistic > critical_value:\n",
        "    print(\"Reject the null hypothesis. There is strong evidence to support the claim that the weekly operating costs are higher than the model suggests.\")\n",
        "else:\n",
        "    print(\"Fail to reject the null hypothesis. There is not enough evidence to support the claim that the weekly operating costs are higher than the model suggests.\")"
      ],
      "metadata": {
        "colab": {
          "base_uri": "https://localhost:8080/"
        },
        "id": "U4VZACrd90dV",
        "outputId": "0904dc85-3802-444a-8899-bc8dc3aae703"
      },
      "execution_count": 2,
      "outputs": [
        {
          "output_type": "stream",
          "name": "stdout",
          "text": [
            "Test Statistic (t): -38.0\n",
            "Critical Value: 1.7108820799094275\n",
            "Fail to reject the null hypothesis. There is not enough evidence to support the claim that the weekly operating costs are higher than the model suggests.\n"
          ]
        }
      ]
    },
    {
      "cell_type": "markdown",
      "source": [
        "3. Determine the Critical Value:\n",
        "\n",
        "Since we are dealing with a one-tailed test (we're only interested in whether the mean is significantly higher), we'll look up the critical value corresponding to the 95th percentile of the standard normal (Z) distribution.\n"
      ],
      "metadata": {
        "id": "EcoZ_VmG6qLa"
      }
    },
    {
      "cell_type": "markdown",
      "source": [
        "4. Make a Decision:\n",
        "\n",
        "Compare the calculated test statistic with the critical value. If the test statistic is greater than the critical value, we reject the null hypothesis."
      ],
      "metadata": {
        "id": "Pb_rmdaZ75Fd"
      }
    },
    {
      "cell_type": "markdown",
      "source": [
        "5. Conclusion:\n",
        "\n",
        "Based on the decision in step 4, we'll conclude whether there is strong evidence to support the restaurant owners' claim that the weekly operating costs are higher than the model suggests."
      ],
      "metadata": {
        "id": "fpFskv2W8b_Q"
      }
    }
  ]
}